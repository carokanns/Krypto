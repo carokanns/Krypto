{
 "cells": [
  {
   "cell_type": "markdown",
   "metadata": {},
   "source": [
    "# Buy and sell coins based on Binance_live_crypto.ipynb\n",
    "### Thanks to Algovibes YouTube channel"
   ]
  },
  {
   "cell_type": "code",
   "execution_count": 1,
   "metadata": {},
   "outputs": [],
   "source": [
    "import asyncio\n",
    "from binance import AsyncClient, BinanceSocketManager\n",
    "import pandas as pd\n",
    "import datetime as dt\n",
    "from binance.client import Client\n",
    "from sqlalchemy import create_engine\n",
    "\n",
    "api_key = '0RKDJcPdqgKzMy4I2j2dXusji6RPSkfU8hJMeP8ssaQTDv64qGCLmvnCEiejw09u'\n",
    "api_secret = 'nJIIKm9e77fJ0EqbFYDgwgbfUyglywMMjbuhDOCbVd1DCrlwdReBmtNm6PgqnCxK'\n",
    "engine = create_engine('sqlite:///CryptoDB.db')\n",
    "client = Client(api_key, api_secret)"
   ]
  },
  {
   "cell_type": "code",
   "execution_count": 2,
   "metadata": {},
   "outputs": [],
   "source": [
    "symbols = pd.read_sql('SELECT name FROM sqlite_master WHERE type=\"table\"', engine).name.tolist()\n",
    "def qry(symbol, lookback:int):\n",
    "    now = dt.datetime.now() - dt.timedelta(hours=1)\t# binance time\n",
    "    before = now - dt.timedelta(minutes=lookback)\n",
    "    qry_str = f\"\"\"SELECT * FROM '{symbol}' WHERE time >= '{before}'\"\"\"\n",
    "    return pd.read_sql(qry_str, engine)"
   ]
  },
  {
   "cell_type": "code",
   "execution_count": 3,
   "metadata": {},
   "outputs": [],
   "source": [
    "rets=[]\n",
    "for symbol in symbols:\n",
    "    prices = qry(symbol,3).Price\n",
    "    cumret = (prices.pct_change()+1).prod()-1\n",
    "    rets.append(cumret)"
   ]
  },
  {
   "cell_type": "code",
   "execution_count": 4,
   "metadata": {},
   "outputs": [
    {
     "name": "stdout",
     "output_type": "stream",
     "text": [
      "TFUELUSDT 0.02744201241424382\n"
     ]
    }
   ],
   "source": [
    "if len(rets)>0:\n",
    "    top_coin = symbols[rets.index(max(rets))]\n",
    "    print(top_coin, max(rets))\n",
    "else:\n",
    "    top_coin=None\n",
    "    print('No coins to buy')"
   ]
  },
  {
   "cell_type": "code",
   "execution_count": 5,
   "metadata": {},
   "outputs": [],
   "source": [
    "investment_amount = float(300)\n",
    "MY_BALANCE = float(500)  ##### This is a temporary variable before we go sharp\n",
    " \n",
    "def get_my_balance():\n",
    "    global MY_BALANCE\n",
    "    if False:\n",
    "        free_usd = [i for i in client.get_account()['balances'] if i['asset']=='USDT'][0]['free']\n",
    "    \n",
    "    # temporary override free_usd\n",
    "    free_usd =  MY_BALANCE\n",
    "    \n",
    "    return free_usd"
   ]
  },
  {
   "cell_type": "code",
   "execution_count": 6,
   "metadata": {},
   "outputs": [],
   "source": [
    "def create_buy_order(symbol, quantity,price):\n",
    "    global MY_BALANCE\n",
    "    if False: \n",
    "        order = client.order_market_buy(symbol=symbol, side='BUY',type='MARKET', quantity=quantity)\n",
    "    \n",
    "    # temporary until we go sharp\n",
    "    priset=quantity*price\n",
    "    order = {'fills':[{'price':price},{'price':price} ]}\n",
    "    MY_BALANCE += priset\n",
    "    return order\n"
   ]
  },
  {
   "cell_type": "code",
   "execution_count": 7,
   "metadata": {},
   "outputs": [
    {
     "name": "stdout",
     "output_type": "stream",
     "text": [
      "TFUELUSDT 952.7 0.0\n"
     ]
    }
   ],
   "source": [
    "\n",
    "info=client.get_symbol_info(symbol=top_coin)\n",
    "LotSize = float([i for i in info['filters'] if i['filterType']=='LOT_SIZE'][0]['stepSize'])\n",
    "price = float(client.get_symbol_ticker(symbol=top_coin)['price'])\n",
    "decimals = len(str(LotSize).split('.')[1])\n",
    "buy_quantity = round(investment_amount/price,decimals)\n",
    "\n",
    "free_usd = get_my_balance()\n",
    "if float(free_usd) > investment_amount:\n",
    "    order=create_buy_order(top_coin,buy_quantity,price)\n",
    "    buyprice = float(order['fills'][0]['price'])\n",
    "    print(f'Köpte {buy_quantity} {top_coin} för {buyprice}. Totalt: {buyprice*buy_quantity}')\n",
    "else:\n",
    "    buyprice=None\n",
    "    print('You have not enough USDT to buy the coin', top_coin, free_usd, investment_amount)\n",
    "    quit()"
   ]
  },
  {
   "cell_type": "code",
   "execution_count": 8,
   "metadata": {},
   "outputs": [],
   "source": [
    "def createframe(msg):\n",
    "    df = pd.DataFrame([msg])\n",
    "    df = df.loc[:,['s','E','p']]\n",
    "    df.columns=['symbol', 'Time', 'Price']\n",
    "    df.Price = df.Price.astype(float)\n",
    "    df.Time = pd.to_datetime(df.Time, unit='ms')\n",
    "    return df\n",
    "\n",
    "def create_sell_order(symbol, quantity,price):\n",
    "    global MY_BALANCE\n",
    "    if False:\n",
    "        order = client.create_order(symbol=symbol, side='SELL', type='MARKET', quantity=quantity)\n",
    "    \n",
    "    # temporary until we go sharp\n",
    "    priset=price*quantity\n",
    "    order = {'fills':[{'price':price},{'price':price} ]}\n",
    "    MY_BALANCE -= priset\n",
    "    return order\n"
   ]
  },
  {
   "cell_type": "code",
   "execution_count": 9,
   "metadata": {},
   "outputs": [],
   "source": [
    "async def main(coin):\n",
    "    # client = await AsyncClient.create()\n",
    "    # print('start main')\n",
    "    # set start time\n",
    "    start_time = dt.datetime.now()\n",
    "    bm = BinanceSocketManager(client)\n",
    "    ts = bm.trade_socket(coin)\n",
    "    async with ts as tscm:\n",
    "        # print('start trade loop')\n",
    "        while True:\n",
    "            res = await tscm.recv()\n",
    "            if res:\n",
    "                # set elapsed time since start\n",
    "                elapsed_time = dt.datetime.now() - start_time\n",
    "                frame = createframe(res)\n",
    "                if elapsed_time.seconds > 60:\n",
    "                    start_time = dt.datetime.now()\n",
    "                    print(frame.Price[0])\n",
    "                if frame.Price[0] < buyprice*0.97 or frame.Price[0] > buyprice*1.02:\n",
    "                    order = create_sell_order(coin, buy_quantity,frame.Price[0])\n",
    "                    print(f'Sålde {buy_quantity} {top_coin} för {frame.Price[0]}. Totalt: {buy_quantity*frame.Price[0]}' )\n",
    "                    print('\\n',order)\n",
    "                    # loop.stop()\n",
    "                    break\n",
    "    \n",
    "    # await client.close_connection()\n",
    "if __name__ == '__main__':\n",
    "    loop = asyncio.get_event_loop()\n",
    "    loop.run_until_complete(main(top_coin))\n",
    "\n",
    "\n"
   ]
  }
 ],
 "metadata": {
  "interpreter": {
   "hash": "5eb2e0c23f8e38f19a3cfe8ad2d7bbb895a86b1e106b247f2b169180d03d2047"
  },
  "kernelspec": {
   "display_name": "Python 3.8.12 64-bit ('base': conda)",
   "language": "python",
   "name": "python3"
  },
  "language_info": {
   "codemirror_mode": {
    "name": "ipython",
    "version": 3
   },
   "file_extension": ".py",
   "mimetype": "text/x-python",
   "name": "python",
   "nbconvert_exporter": "python",
   "pygments_lexer": "ipython3",
   "version": "3.8.12"
  },
  "orig_nbformat": 4
 },
 "nbformat": 4,
 "nbformat_minor": 2
}
