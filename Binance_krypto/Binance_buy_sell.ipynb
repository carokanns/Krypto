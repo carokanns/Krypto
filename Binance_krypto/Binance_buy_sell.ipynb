{
 "cells": [
  {
   "cell_type": "markdown",
   "metadata": {},
   "source": [
    "# Buy and sell coins based on Binance_live_crypto.ipynb"
   ]
  },
  {
   "cell_type": "code",
   "execution_count": 32,
   "metadata": {},
   "outputs": [],
   "source": [
    "import asyncio\n",
    "from binance import AsyncClient, BinanceSocketManager\n",
    "import pandas as pd\n",
    "import datetime as dt\n",
    "from binance.client import Client\n",
    "from sqlalchemy import create_engine\n",
    "\n",
    "api_key = '0RKDJcPdqgKzMy4I2j2dXusji6RPSkfU8hJMeP8ssaQTDv64qGCLmvnCEiejw09u'\n",
    "api_secret = 'nJIIKm9e77fJ0EqbFYDgwgbfUyglywMMjbuhDOCbVd1DCrlwdReBmtNm6PgqnCxK'\n",
    "engine = create_engine('sqlite:///CryptoDB.db')\n",
    "client = Client(api_key, api_secret)"
   ]
  },
  {
   "cell_type": "code",
   "execution_count": 33,
   "metadata": {},
   "outputs": [],
   "source": [
    "symbols = pd.read_sql('SELECT name FROM sqlite_master WHERE type=\"table\"', engine).name.tolist()\n",
    "def qry(symbol, lookback:int):\n",
    "    now = dt.datetime.now() - dt.timedelta(hours=1)\t# binance time\n",
    "    before = now - dt.timedelta(minutes=lookback)\n",
    "    qry_str = f\"\"\"SELECT * FROM '{symbol}' WHERE time >= '{before}'\"\"\"\n",
    "    return pd.read_sql(qry_str, engine)"
   ]
  },
  {
   "cell_type": "code",
   "execution_count": 34,
   "metadata": {},
   "outputs": [],
   "source": [
    "rets=[]\n",
    "for symbol in symbols:\n",
    "    prices = qry(symbol,3).Price\n",
    "    cumret = (prices.pct_change()+1).prod()-1\n",
    "    rets.append(cumret)"
   ]
  },
  {
   "cell_type": "code",
   "execution_count": 35,
   "metadata": {},
   "outputs": [
    {
     "name": "stdout",
     "output_type": "stream",
     "text": [
      "IDEXUSDT 0.02983914571505797\n"
     ]
    }
   ],
   "source": [
    "top_coin = symbols[rets.index(max(rets))]\n",
    "print(top_coin, max(rets))"
   ]
  },
  {
   "cell_type": "code",
   "execution_count": null,
   "metadata": {},
   "outputs": [],
   "source": [
    "investment_amount = 300\n",
    "info=client.get_symbol_info(symbol=top_coin)\n",
    "LotSize = float([i for i in info['filters'] if i['filterType']=='LOT_SIZE'][0]['stepSize'])\n",
    "prize = float(client.get_symbol_ticker(symbol=top_coin)['price'])\n",
    "decimals = len(str(LotSize).split('.')[1])\n",
    "buy_quantity = round(investment_amount/prize/LotSize,decimals)\n",
    "\n",
    "free_usd = [i for i in client.get_account()['balances'] if i['asset']=='USDT'][0]['free']\n",
    "if float(free_usd) < investment_amount:\n",
    "    order = client.order_market_buy(symbol=top_coin, side='BUY',type='MARKET', quantity=buy_quantity)\n",
    "    buyprice = float(order['fills'][0]['price'])\n",
    "    print(top_coin,buy_quantity,buyprice)\n",
    "else:\n",
    "    print('You have enough USDT to buy the coin')\n",
    "    quit()"
   ]
  },
  {
   "cell_type": "code",
   "execution_count": 23,
   "metadata": {},
   "outputs": [
    {
     "data": {
      "text/plain": [
       "(47558.655675332906, 3000.0027959999998)"
      ]
     },
     "execution_count": 23,
     "metadata": {},
     "output_type": "execute_result"
    }
   ],
   "source": [
    "investment_amount/prize/LotSize, buy_quantity*prize\n"
   ]
  },
  {
   "cell_type": "code",
   "execution_count": 41,
   "metadata": {},
   "outputs": [],
   "source": [
    "def createframe(msg):\n",
    "    df = pd.DataFrame([msg['data']])\n",
    "    df['symbol'] = msg['stream']\n",
    "    df = df.loc[:,['s','E','p']]\n",
    "    df.columns=['symbol', 'Time', 'Price']\n",
    "    df.Price = df.Price.astype(float)\n",
    "    df.Time = pd.to_datetime(df.Time, unit='ms')\n",
    "    return df\n",
    "\n",
    "def create_sell_order(coin, quantity):\n",
    "    order = client.create_order(symbol=coin, side='SELL', type='MARKET', quantity=quantity)\n",
    "    return order"
   ]
  },
  {
   "cell_type": "code",
   "execution_count": null,
   "metadata": {},
   "outputs": [],
   "source": [
    "async def main(coin):\n",
    "    # client = await AsyncClient.create()\n",
    "    bm = BinanceSocketManager(client)\n",
    "    ts = bm.trade_socket(coin)\n",
    "    async with ts as tscm:\n",
    "        while True:\n",
    "            res = await tscm.recv()\n",
    "            if res:\n",
    "                frame = createframe(res)\n",
    "                if frame.Price[0] < buyprice*0.97 or frame.Price[0] > buyprice*1.05:\n",
    "                    order = create_sell_order(coin, buy_quantity)\n",
    "                    buyprice = float(order['fills'][0]['price'])\n",
    "                    print(top_coin,buy_quantity, buyprice )\n",
    "                    loop.stop()\n",
    "    \n",
    "    await client.close_connection()\n",
    "if __name__ == '__main__':\n",
    "    loop = asyncio.get_event_loop()\n",
    "    loop.run_until_complete(main(top_coin))"
   ]
  }
 ],
 "metadata": {
  "interpreter": {
   "hash": "5eb2e0c23f8e38f19a3cfe8ad2d7bbb895a86b1e106b247f2b169180d03d2047"
  },
  "kernelspec": {
   "display_name": "Python 3.8.12 64-bit ('base': conda)",
   "language": "python",
   "name": "python3"
  },
  "language_info": {
   "codemirror_mode": {
    "name": "ipython",
    "version": 3
   },
   "file_extension": ".py",
   "mimetype": "text/x-python",
   "name": "python",
   "nbconvert_exporter": "python",
   "pygments_lexer": "ipython3",
   "version": "3.8.12"
  },
  "orig_nbformat": 4
 },
 "nbformat": 4,
 "nbformat_minor": 2
}
