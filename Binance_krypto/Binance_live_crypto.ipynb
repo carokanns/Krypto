{
 "cells": [
  {
   "cell_type": "markdown",
   "metadata": {},
   "source": [
    "# Get all crypto currencies from Binance live\n",
    "## and save in a sql database"
   ]
  },
  {
   "cell_type": "code",
   "execution_count": 1,
   "metadata": {},
   "outputs": [],
   "source": [
    "# !pip install python-binance -U\n"
   ]
  },
  {
   "cell_type": "code",
   "execution_count": 2,
   "metadata": {},
   "outputs": [],
   "source": [
    "# import libraries\n",
    "from IPython.display import display\n",
    "import pandas as pd\n",
    "import numpy as np\n",
    "from binance.client import Client\n",
    "import asyncio\n",
    "from binance import AsyncClient, BinanceSocketManager\n",
    "import nest_asyncio\n",
    "nest_asyncio.apply()\n",
    "import datetime as dt\n",
    "from sqlalchemy import inspect\n",
    "from sqlalchemy import create_engine"
   ]
  },
  {
   "cell_type": "code",
   "execution_count": 3,
   "metadata": {},
   "outputs": [],
   "source": [
    "engine = create_engine('sqlite:///CryptoDB.db')\n",
    "client = Client()\n",
    "info = client.get_exchange_info()\n",
    "symbols = [s['symbol'] for s in info['symbols']]\n",
    "exclude = ['UP', 'DOWN', 'BEAR', 'BULL']    \n",
    "non_lev = [s for s in symbols if all(excludes not in s for excludes in exclude)]\n",
    "# ends with 'USDT'\n",
    "relevant = [s for s in non_lev if s.endswith('USDT')]"
   ]
  },
  {
   "cell_type": "code",
   "execution_count": 4,
   "metadata": {},
   "outputs": [],
   "source": [
    "multi = [i.lower() + '@trade' for i in relevant]"
   ]
  },
  {
   "cell_type": "code",
   "execution_count": 5,
   "metadata": {},
   "outputs": [],
   "source": [
    "def createframe(msg):\n",
    "    # display(msg)\n",
    "    df = pd.DataFrame([msg['data']])\n",
    "    df = df.loc[:,['s','E','p']]\n",
    "    df.columns=['symbol', 'Time', 'Price']\n",
    "    df.Price = df.Price.astype(float)\n",
    "    df.Time = pd.to_datetime(df.Time, unit='ms')\n",
    "    return df\n",
    "\n",
    "# remove from all tables rows with time older than 2 hours\n",
    "\n",
    "def remove_old_data():\n",
    "    this_time = dt.datetime.now()\n",
    "    # add 2 hour to start_time as time limit\n",
    "    time_limit = this_time - dt.timedelta(hours=2)\n",
    "    print(f'remove all rows in databse before {time_limit}')\n",
    "    # loop through all tables in CryptoDB   \n",
    "    inspector = inspect(engine)\n",
    "    schemas = inspector.get_schema_names()\n",
    "\n",
    "    for schema in schemas:\n",
    "        for table_name in inspector.get_table_names(schema=schema):\n",
    "            # create df from table_name\n",
    "            try:\n",
    "                df = pd.read_sql(f'SELECT * FROM {table_name}', engine)\n",
    "                df.Time = pd.to_datetime(df.Time, unit='ms')\n",
    "            except:\n",
    "                continue    \n",
    "            \n",
    "            # delete rows\n",
    "            df = df[df.Time > time_limit]\n",
    "            if len(df) > 0:\n",
    "                # overwritevtable_name with df\n",
    "                df.to_sql(table_name, engine, if_exists='replace', index=False)        "
   ]
  },
  {
   "cell_type": "code",
   "execution_count": 6,
   "metadata": {},
   "outputs": [],
   "source": [
    "async def main():\n",
    "    client = await AsyncClient.create()\n",
    "    bm = BinanceSocketManager(client)\n",
    "    ms = bm.multiplex_socket(multi)\n",
    "    from_time = dt.datetime.now()\n",
    "    async with ms as tscm:\n",
    "        while True:\n",
    "            res = await tscm.recv()\n",
    "            if res:\n",
    "                frame = createframe(res)\n",
    "                frame.to_sql(frame.symbol[0], engine, if_exists='append', index=False)\n",
    "\n",
    "            elapsed = dt.datetime.now() - from_time\n",
    "            if elapsed > dt.timedelta(hours=3):\n",
    "                print('remove old data')\n",
    "                remove_old_data()\n",
    "                from_time = dt.datetime.now()\n",
    "                \n",
    "                \n",
    "    await client.close_connection()\n",
    "                "
   ]
  },
  {
   "cell_type": "code",
   "execution_count": 7,
   "metadata": {},
   "outputs": [
    {
     "name": "stdout",
     "output_type": "stream",
     "text": [
      "remove old data\n",
      "remove all rows in databse before 2021-11-18 17:50:11.384586\n",
      "remove old data\n",
      "remove all rows in databse before 2021-11-18 20:50:14.639717\n"
     ]
    }
   ],
   "source": [
    "if __name__ == '__main__':\n",
    "    loop = asyncio.get_event_loop()\n",
    "    loop.run_until_complete(main())"
   ]
  }
 ],
 "metadata": {
  "interpreter": {
   "hash": "5eb2e0c23f8e38f19a3cfe8ad2d7bbb895a86b1e106b247f2b169180d03d2047"
  },
  "kernelspec": {
   "display_name": "Python 3.8.12 64-bit ('base': conda)",
   "language": "python",
   "name": "python3"
  },
  "language_info": {
   "codemirror_mode": {
    "name": "ipython",
    "version": 3
   },
   "file_extension": ".py",
   "mimetype": "text/x-python",
   "name": "python",
   "nbconvert_exporter": "python",
   "pygments_lexer": "ipython3",
   "version": "3.8.12"
  },
  "orig_nbformat": 4
 },
 "nbformat": 4,
 "nbformat_minor": 2
}
