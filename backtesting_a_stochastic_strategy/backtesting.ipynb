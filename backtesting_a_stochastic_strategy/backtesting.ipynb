{
 "cells": [
  {
   "cell_type": "markdown",
   "metadata": {},
   "source": [
    "# gör backtesting på en stochastic strategy"
   ]
  },
  {
   "cell_type": "code",
   "execution_count": 138,
   "metadata": {},
   "outputs": [],
   "source": [
    "import yfinance as yf\n",
    "import ta\n",
    "import pandas as pd\n",
    "import matplotlib.pyplot as plt\n"
   ]
  },
  {
   "cell_type": "code",
   "execution_count": 139,
   "metadata": {},
   "outputs": [
    {
     "name": "stdout",
     "output_type": "stream",
     "text": [
      "[*********************100%***********************]  1 of 1 completed\n"
     ]
    }
   ],
   "source": [
    "# ticker = \"ETH-USD\"\n",
    "ticker = \"TSLA-USD\"\n",
    "df = yf.download(ticker, start=\"2020-01-01\")"
   ]
  },
  {
   "cell_type": "code",
   "execution_count": 140,
   "metadata": {},
   "outputs": [
    {
     "data": {
      "text/html": [
       "<div>\n",
       "<style scoped>\n",
       "    .dataframe tbody tr th:only-of-type {\n",
       "        vertical-align: middle;\n",
       "    }\n",
       "\n",
       "    .dataframe tbody tr th {\n",
       "        vertical-align: top;\n",
       "    }\n",
       "\n",
       "    .dataframe thead th {\n",
       "        text-align: right;\n",
       "    }\n",
       "</style>\n",
       "<table border=\"1\" class=\"dataframe\">\n",
       "  <thead>\n",
       "    <tr style=\"text-align: right;\">\n",
       "      <th></th>\n",
       "      <th>Open</th>\n",
       "      <th>High</th>\n",
       "      <th>Low</th>\n",
       "      <th>Close</th>\n",
       "      <th>Adj Close</th>\n",
       "      <th>Volume</th>\n",
       "    </tr>\n",
       "    <tr>\n",
       "      <th>Date</th>\n",
       "      <th></th>\n",
       "      <th></th>\n",
       "      <th></th>\n",
       "      <th></th>\n",
       "      <th></th>\n",
       "      <th></th>\n",
       "    </tr>\n",
       "  </thead>\n",
       "  <tbody>\n",
       "    <tr>\n",
       "      <th>2020-11-06</th>\n",
       "      <td>1.046114</td>\n",
       "      <td>1.200094</td>\n",
       "      <td>0.826810</td>\n",
       "      <td>1.109129</td>\n",
       "      <td>1.109129</td>\n",
       "      <td>111066</td>\n",
       "    </tr>\n",
       "    <tr>\n",
       "      <th>2020-11-07</th>\n",
       "      <td>1.109129</td>\n",
       "      <td>1.200629</td>\n",
       "      <td>0.827261</td>\n",
       "      <td>1.097126</td>\n",
       "      <td>1.097126</td>\n",
       "      <td>129844</td>\n",
       "    </tr>\n",
       "    <tr>\n",
       "      <th>2020-11-08</th>\n",
       "      <td>1.097126</td>\n",
       "      <td>1.098143</td>\n",
       "      <td>1.062400</td>\n",
       "      <td>1.079512</td>\n",
       "      <td>1.079512</td>\n",
       "      <td>133412</td>\n",
       "    </tr>\n",
       "    <tr>\n",
       "      <th>2020-11-09</th>\n",
       "      <td>1.079512</td>\n",
       "      <td>1.080015</td>\n",
       "      <td>1.070853</td>\n",
       "      <td>1.077403</td>\n",
       "      <td>1.077403</td>\n",
       "      <td>182625</td>\n",
       "    </tr>\n",
       "    <tr>\n",
       "      <th>2020-11-10</th>\n",
       "      <td>1.077403</td>\n",
       "      <td>1.200757</td>\n",
       "      <td>0.827330</td>\n",
       "      <td>1.071106</td>\n",
       "      <td>1.071106</td>\n",
       "      <td>175186</td>\n",
       "    </tr>\n",
       "    <tr>\n",
       "      <th>2020-11-11</th>\n",
       "      <td>1.071106</td>\n",
       "      <td>1.080223</td>\n",
       "      <td>1.062449</td>\n",
       "      <td>1.074958</td>\n",
       "      <td>1.074958</td>\n",
       "      <td>153266</td>\n",
       "    </tr>\n",
       "    <tr>\n",
       "      <th>2020-11-12</th>\n",
       "      <td>1.074958</td>\n",
       "      <td>1.076842</td>\n",
       "      <td>1.069997</td>\n",
       "      <td>1.072746</td>\n",
       "      <td>1.072746</td>\n",
       "      <td>131888</td>\n",
       "    </tr>\n",
       "    <tr>\n",
       "      <th>2020-11-13</th>\n",
       "      <td>1.072746</td>\n",
       "      <td>1.080256</td>\n",
       "      <td>1.062136</td>\n",
       "      <td>1.074042</td>\n",
       "      <td>1.074042</td>\n",
       "      <td>310593</td>\n",
       "    </tr>\n",
       "    <tr>\n",
       "      <th>2020-11-14</th>\n",
       "      <td>1.074041</td>\n",
       "      <td>1.074536</td>\n",
       "      <td>1.056495</td>\n",
       "      <td>1.065136</td>\n",
       "      <td>1.065136</td>\n",
       "      <td>334127</td>\n",
       "    </tr>\n",
       "    <tr>\n",
       "      <th>2020-11-15</th>\n",
       "      <td>1.065163</td>\n",
       "      <td>1.066809</td>\n",
       "      <td>0.928615</td>\n",
       "      <td>1.061991</td>\n",
       "      <td>1.061991</td>\n",
       "      <td>299942</td>\n",
       "    </tr>\n",
       "    <tr>\n",
       "      <th>2020-11-16</th>\n",
       "      <td>1.061989</td>\n",
       "      <td>1.097724</td>\n",
       "      <td>1.061136</td>\n",
       "      <td>1.094832</td>\n",
       "      <td>1.094832</td>\n",
       "      <td>492985</td>\n",
       "    </tr>\n",
       "    <tr>\n",
       "      <th>2020-11-17</th>\n",
       "      <td>1.083652</td>\n",
       "      <td>1.115822</td>\n",
       "      <td>1.064215</td>\n",
       "      <td>1.109873</td>\n",
       "      <td>1.109873</td>\n",
       "      <td>501884</td>\n",
       "    </tr>\n",
       "    <tr>\n",
       "      <th>2020-11-18</th>\n",
       "      <td>1.109897</td>\n",
       "      <td>1.167580</td>\n",
       "      <td>1.089802</td>\n",
       "      <td>1.139317</td>\n",
       "      <td>1.139317</td>\n",
       "      <td>343457</td>\n",
       "    </tr>\n",
       "    <tr>\n",
       "      <th>2020-11-19</th>\n",
       "      <td>1.139373</td>\n",
       "      <td>1.179335</td>\n",
       "      <td>1.115414</td>\n",
       "      <td>1.147345</td>\n",
       "      <td>1.147345</td>\n",
       "      <td>452633</td>\n",
       "    </tr>\n",
       "    <tr>\n",
       "      <th>2020-11-20</th>\n",
       "      <td>1.147329</td>\n",
       "      <td>1.174481</td>\n",
       "      <td>1.135435</td>\n",
       "      <td>1.162112</td>\n",
       "      <td>1.162112</td>\n",
       "      <td>409613</td>\n",
       "    </tr>\n",
       "    <tr>\n",
       "      <th>2020-11-21</th>\n",
       "      <td>1.162019</td>\n",
       "      <td>1.181193</td>\n",
       "      <td>1.146481</td>\n",
       "      <td>1.152094</td>\n",
       "      <td>1.152094</td>\n",
       "      <td>302416</td>\n",
       "    </tr>\n",
       "    <tr>\n",
       "      <th>2020-11-22</th>\n",
       "      <td>1.152105</td>\n",
       "      <td>1.161882</td>\n",
       "      <td>1.062983</td>\n",
       "      <td>1.150810</td>\n",
       "      <td>1.150810</td>\n",
       "      <td>407133</td>\n",
       "    </tr>\n",
       "    <tr>\n",
       "      <th>2020-11-23</th>\n",
       "      <td>1.150769</td>\n",
       "      <td>1.156257</td>\n",
       "      <td>1.062643</td>\n",
       "      <td>1.152666</td>\n",
       "      <td>1.152666</td>\n",
       "      <td>489310</td>\n",
       "    </tr>\n",
       "    <tr>\n",
       "      <th>2020-11-24</th>\n",
       "      <td>1.153164</td>\n",
       "      <td>1.172740</td>\n",
       "      <td>1.136164</td>\n",
       "      <td>1.165929</td>\n",
       "      <td>1.165929</td>\n",
       "      <td>414455</td>\n",
       "    </tr>\n",
       "    <tr>\n",
       "      <th>2020-11-25</th>\n",
       "      <td>1.165877</td>\n",
       "      <td>1.167574</td>\n",
       "      <td>1.076433</td>\n",
       "      <td>1.147122</td>\n",
       "      <td>1.147122</td>\n",
       "      <td>423982</td>\n",
       "    </tr>\n",
       "    <tr>\n",
       "      <th>2020-11-26</th>\n",
       "      <td>1.147064</td>\n",
       "      <td>1.223403</td>\n",
       "      <td>1.142731</td>\n",
       "      <td>1.171090</td>\n",
       "      <td>1.171090</td>\n",
       "      <td>418458</td>\n",
       "    </tr>\n",
       "    <tr>\n",
       "      <th>2020-11-27</th>\n",
       "      <td>1.171332</td>\n",
       "      <td>1.186126</td>\n",
       "      <td>1.148195</td>\n",
       "      <td>1.162174</td>\n",
       "      <td>1.162174</td>\n",
       "      <td>535174</td>\n",
       "    </tr>\n",
       "    <tr>\n",
       "      <th>2020-11-28</th>\n",
       "      <td>1.162172</td>\n",
       "      <td>1.200609</td>\n",
       "      <td>1.157503</td>\n",
       "      <td>1.192230</td>\n",
       "      <td>1.192230</td>\n",
       "      <td>482988</td>\n",
       "    </tr>\n",
       "    <tr>\n",
       "      <th>2020-11-29</th>\n",
       "      <td>1.192223</td>\n",
       "      <td>1.242528</td>\n",
       "      <td>1.188858</td>\n",
       "      <td>1.219639</td>\n",
       "      <td>1.219639</td>\n",
       "      <td>474266</td>\n",
       "    </tr>\n",
       "    <tr>\n",
       "      <th>2020-11-30</th>\n",
       "      <td>1.219610</td>\n",
       "      <td>1.326318</td>\n",
       "      <td>1.219610</td>\n",
       "      <td>1.301598</td>\n",
       "      <td>1.301598</td>\n",
       "      <td>626032</td>\n",
       "    </tr>\n",
       "    <tr>\n",
       "      <th>2020-12-01</th>\n",
       "      <td>1.301541</td>\n",
       "      <td>1.341518</td>\n",
       "      <td>1.288928</td>\n",
       "      <td>1.305604</td>\n",
       "      <td>1.305604</td>\n",
       "      <td>561658</td>\n",
       "    </tr>\n",
       "    <tr>\n",
       "      <th>2020-12-02</th>\n",
       "      <td>1.305582</td>\n",
       "      <td>1.308976</td>\n",
       "      <td>1.262096</td>\n",
       "      <td>1.307083</td>\n",
       "      <td>1.307083</td>\n",
       "      <td>570673</td>\n",
       "    </tr>\n",
       "    <tr>\n",
       "      <th>2020-12-03</th>\n",
       "      <td>1.307042</td>\n",
       "      <td>1.334235</td>\n",
       "      <td>1.290218</td>\n",
       "      <td>1.332953</td>\n",
       "      <td>1.332953</td>\n",
       "      <td>524380</td>\n",
       "    </tr>\n",
       "    <tr>\n",
       "      <th>2020-12-04</th>\n",
       "      <td>1.333129</td>\n",
       "      <td>1.337278</td>\n",
       "      <td>1.195919</td>\n",
       "      <td>1.285951</td>\n",
       "      <td>1.285951</td>\n",
       "      <td>568300</td>\n",
       "    </tr>\n",
       "    <tr>\n",
       "      <th>2020-12-05</th>\n",
       "      <td>1.284012</td>\n",
       "      <td>1.362891</td>\n",
       "      <td>1.224223</td>\n",
       "      <td>1.307498</td>\n",
       "      <td>1.307498</td>\n",
       "      <td>609319</td>\n",
       "    </tr>\n",
       "  </tbody>\n",
       "</table>\n",
       "</div>"
      ],
      "text/plain": [
       "                Open      High       Low     Close  Adj Close  Volume\n",
       "Date                                                                 \n",
       "2020-11-06  1.046114  1.200094  0.826810  1.109129   1.109129  111066\n",
       "2020-11-07  1.109129  1.200629  0.827261  1.097126   1.097126  129844\n",
       "2020-11-08  1.097126  1.098143  1.062400  1.079512   1.079512  133412\n",
       "2020-11-09  1.079512  1.080015  1.070853  1.077403   1.077403  182625\n",
       "2020-11-10  1.077403  1.200757  0.827330  1.071106   1.071106  175186\n",
       "2020-11-11  1.071106  1.080223  1.062449  1.074958   1.074958  153266\n",
       "2020-11-12  1.074958  1.076842  1.069997  1.072746   1.072746  131888\n",
       "2020-11-13  1.072746  1.080256  1.062136  1.074042   1.074042  310593\n",
       "2020-11-14  1.074041  1.074536  1.056495  1.065136   1.065136  334127\n",
       "2020-11-15  1.065163  1.066809  0.928615  1.061991   1.061991  299942\n",
       "2020-11-16  1.061989  1.097724  1.061136  1.094832   1.094832  492985\n",
       "2020-11-17  1.083652  1.115822  1.064215  1.109873   1.109873  501884\n",
       "2020-11-18  1.109897  1.167580  1.089802  1.139317   1.139317  343457\n",
       "2020-11-19  1.139373  1.179335  1.115414  1.147345   1.147345  452633\n",
       "2020-11-20  1.147329  1.174481  1.135435  1.162112   1.162112  409613\n",
       "2020-11-21  1.162019  1.181193  1.146481  1.152094   1.152094  302416\n",
       "2020-11-22  1.152105  1.161882  1.062983  1.150810   1.150810  407133\n",
       "2020-11-23  1.150769  1.156257  1.062643  1.152666   1.152666  489310\n",
       "2020-11-24  1.153164  1.172740  1.136164  1.165929   1.165929  414455\n",
       "2020-11-25  1.165877  1.167574  1.076433  1.147122   1.147122  423982\n",
       "2020-11-26  1.147064  1.223403  1.142731  1.171090   1.171090  418458\n",
       "2020-11-27  1.171332  1.186126  1.148195  1.162174   1.162174  535174\n",
       "2020-11-28  1.162172  1.200609  1.157503  1.192230   1.192230  482988\n",
       "2020-11-29  1.192223  1.242528  1.188858  1.219639   1.219639  474266\n",
       "2020-11-30  1.219610  1.326318  1.219610  1.301598   1.301598  626032\n",
       "2020-12-01  1.301541  1.341518  1.288928  1.305604   1.305604  561658\n",
       "2020-12-02  1.305582  1.308976  1.262096  1.307083   1.307083  570673\n",
       "2020-12-03  1.307042  1.334235  1.290218  1.332953   1.332953  524380\n",
       "2020-12-04  1.333129  1.337278  1.195919  1.285951   1.285951  568300\n",
       "2020-12-05  1.284012  1.362891  1.224223  1.307498   1.307498  609319"
      ]
     },
     "execution_count": 140,
     "metadata": {},
     "output_type": "execute_result"
    }
   ],
   "source": [
    "df[df.index >= \"2020-03-01\"].head(30)"
   ]
  },
  {
   "cell_type": "markdown",
   "metadata": {},
   "source": [
    "## addera indicators"
   ]
  },
  {
   "cell_type": "code",
   "execution_count": 141,
   "metadata": {},
   "outputs": [],
   "source": [
    "def indicators(df):\n",
    "    df['SMA_200'] = ta.trend.sma_indicator(df['Close'], window=200)\n",
    "    df['stoch_k'] = ta.momentum.stochrsi_k(df['Close'], window=10)\n",
    "    df.dropna(inplace=True)\n",
    "    "
   ]
  },
  {
   "cell_type": "code",
   "execution_count": 142,
   "metadata": {},
   "outputs": [],
   "source": [
    "indicators(df)"
   ]
  },
  {
   "cell_type": "code",
   "execution_count": 143,
   "metadata": {},
   "outputs": [],
   "source": [
    "df['Buy'] = (df['Close'] > df['SMA_200']) & (df['stoch_k'] < 0.05)"
   ]
  },
  {
   "cell_type": "code",
   "execution_count": 144,
   "metadata": {},
   "outputs": [
    {
     "name": "stdout",
     "output_type": "stream",
     "text": [
      "buy 2021-11-13 00:00:00 1.0721884763240814\n",
      "sell 2021-11-15 00:00:00 1.1189229488372803\n",
      "buy 2021-11-18 00:00:00 1.054929324388504\n",
      "sell 2021-11-20 00:00:00 1.1156940460205078\n",
      "buy 2022-01-10 00:00:00 1.5097487616539\n",
      "sell 2022-01-12 00:00:00 1.6737170219421387\n",
      "buy 2022-02-11 00:00:00 1.5907301437854766\n",
      "sell 10 2022-02-22 00:00:00 1.4732929468154907\n",
      "buy 2022-04-06 00:00:00 1.437912447452545\n",
      "sell 2022-04-08 00:00:00 1.4825040102005005\n",
      "buy 2022-04-25 00:00:00 1.4006431186199189\n",
      "sell 2022-04-27 00:00:00 1.4576280117034912\n",
      "buy 2022-05-09 00:00:00 1.3738963937759399\n",
      "sell 2022-05-11 00:00:00 1.3899519443511963\n"
     ]
    }
   ],
   "source": [
    "buydates, selldates = [],[]\n",
    "buys, sells = [],[]\n",
    "max_search=10\n",
    "\n",
    "last_selldate = pd.to_datetime(\"1900-01-01\") # last sell date to avoid selling before buying\n",
    "# buydate = last_selldate\n",
    "for row in range(len(df)):\n",
    "    if len(selldates) > 0:\n",
    "        last_selldate = selldates[-1]\n",
    "    \n",
    "    if df.iloc[row].Buy:\n",
    "        # print('buy indicate', df.iloc[row].name)\n",
    "        buyprice = df.iloc[row].Close * 0.97  # take a 3% margin\n",
    "        found_buydate = False\n",
    "        for k in range(1,max_search+1):\n",
    "            if buyprice >= df.iloc[row+k].Low:\n",
    "                buydate = df.iloc[row+k].name\n",
    "                found_buydate = True\n",
    "                break\n",
    "            \n",
    "        if not found_buydate:    \n",
    "            continue   # go on with the next row\n",
    "        \n",
    "        if buydate > last_selldate:\n",
    "            buydates.append(buydate)\n",
    "            buys.append(buyprice)\n",
    "            print('buy', buydate, buyprice)\n",
    "            for j in range(1,max_search+1):    \n",
    "                if df.iloc[row+k+j].Close > buyprice:\n",
    "                    sellprice = df.iloc[row+k+j+1].Open\n",
    "                    selldate = df.iloc[row+k+j+1].name\n",
    "                    sells.append(sellprice)\n",
    "                    selldates.append(selldate)\n",
    "                    # df.iloc[row+k+j,-1] = True\n",
    "                    print('sell', selldate, sellprice)\n",
    "                    break\n",
    "                elif j==max_search: # if no sell signal found, sell after 60 days\n",
    "                    sellprice = df.iloc[row+k+j+1].Open\n",
    "                    selldate = df.iloc[row+k+j+1].name\n",
    "                    sells.append(sellprice)\n",
    "                    selldates.append(selldate)\n",
    "                    print('sell 10',selldate, sellprice)\n"
   ]
  },
  {
   "cell_type": "code",
   "execution_count": 145,
   "metadata": {},
   "outputs": [
    {
     "data": {
      "text/plain": [
       "[Timestamp('2021-11-13 00:00:00'),\n",
       " Timestamp('2021-11-18 00:00:00'),\n",
       " Timestamp('2022-01-10 00:00:00'),\n",
       " Timestamp('2022-02-11 00:00:00'),\n",
       " Timestamp('2022-04-06 00:00:00'),\n",
       " Timestamp('2022-04-25 00:00:00'),\n",
       " Timestamp('2022-05-09 00:00:00')]"
      ]
     },
     "execution_count": 145,
     "metadata": {},
     "output_type": "execute_result"
    }
   ],
   "source": [
    "buydates"
   ]
  },
  {
   "cell_type": "code",
   "execution_count": 146,
   "metadata": {},
   "outputs": [
    {
     "data": {
      "text/plain": [
       "[Timestamp('2021-11-15 00:00:00'),\n",
       " Timestamp('2021-11-20 00:00:00'),\n",
       " Timestamp('2022-01-12 00:00:00'),\n",
       " Timestamp('2022-02-22 00:00:00'),\n",
       " Timestamp('2022-04-08 00:00:00'),\n",
       " Timestamp('2022-04-27 00:00:00'),\n",
       " Timestamp('2022-05-11 00:00:00')]"
      ]
     },
     "execution_count": 146,
     "metadata": {},
     "output_type": "execute_result"
    }
   ],
   "source": [
    "selldates"
   ]
  },
  {
   "cell_type": "code",
   "execution_count": 147,
   "metadata": {},
   "outputs": [
    {
     "data": {
      "text/plain": [
       "<matplotlib.collections.PathCollection at 0x1cbf9afbe20>"
      ]
     },
     "execution_count": 147,
     "metadata": {},
     "output_type": "execute_result"
    },
    {
     "data": {
      "image/png": "[encoded data removed]",
      "text/plain": [
       "<Figure size 432x288 with 1 Axes>"
      ]
     },
     "metadata": {
      "needs_background": "light"
     },
     "output_type": "display_data"
    }
   ],
   "source": [
    "plt.subplot(1,1,1, xlabel='Date', ylabel='Price', title=ticker)\n",
    "# set size of subplot\n",
    "plt.subplots_adjust(left=0.05, right=3, top=2, bottom=0.05)\n",
    "plt.plot(df['Close'])\n",
    "plt.scatter(df.loc[buydates].index, df.loc[buydates].Close, marker='^', color='green', s=100)\n",
    "plt.scatter(df.loc[selldates].index, df.loc[selldates].Close, marker='v', color='red', s=100)"
   ]
  },
  {
   "cell_type": "code",
   "execution_count": 148,
   "metadata": {},
   "outputs": [
    {
     "data": {
      "text/plain": [
       "[1.0721884763240814,\n",
       " 1.054929324388504,\n",
       " 1.5097487616539,\n",
       " 1.5907301437854766,\n",
       " 1.437912447452545,\n",
       " 1.4006431186199189,\n",
       " 1.3738963937759399]"
      ]
     },
     "execution_count": 148,
     "metadata": {},
     "output_type": "execute_result"
    }
   ],
   "source": [
    "buys"
   ]
  },
  {
   "cell_type": "code",
   "execution_count": 149,
   "metadata": {},
   "outputs": [
    {
     "data": {
      "text/plain": [
       "[1.1189229488372803,\n",
       " 1.1156940460205078,\n",
       " 1.6737170219421387,\n",
       " 1.4732929468154907,\n",
       " 1.4825040102005005,\n",
       " 1.4576280117034912,\n",
       " 1.3899519443511963]"
      ]
     },
     "execution_count": 149,
     "metadata": {},
     "output_type": "execute_result"
    }
   ],
   "source": [
    "sells"
   ]
  },
  {
   "cell_type": "code",
   "execution_count": 150,
   "metadata": {},
   "outputs": [
    {
     "name": "stdout",
     "output_type": "stream",
     "text": [
      "     profit\n",
      "0  0.043588\n",
      "1  0.057601\n",
      "2  0.108606\n",
      "3 -0.073826\n",
      "4  0.031011\n",
      "5  0.040685\n",
      "6  0.011686\n"
     ]
    }
   ],
   "source": [
    "profits = pd.DataFrame([(sell - buy)/buy for sell, buy in zip(sells, buys)], columns=['profit'])\n",
    "import numpy as np\n",
    "print(profits)\n"
   ]
  },
  {
   "cell_type": "code",
   "execution_count": 151,
   "metadata": {},
   "outputs": [
    {
     "data": {
      "text/html": [
       "<div>\n",
       "<style scoped>\n",
       "    .dataframe tbody tr th:only-of-type {\n",
       "        vertical-align: middle;\n",
       "    }\n",
       "\n",
       "    .dataframe tbody tr th {\n",
       "        vertical-align: top;\n",
       "    }\n",
       "\n",
       "    .dataframe thead th {\n",
       "        text-align: right;\n",
       "    }\n",
       "</style>\n",
       "<table border=\"1\" class=\"dataframe\">\n",
       "  <thead>\n",
       "    <tr style=\"text-align: right;\">\n",
       "      <th></th>\n",
       "      <th>profit</th>\n",
       "    </tr>\n",
       "  </thead>\n",
       "  <tbody>\n",
       "    <tr>\n",
       "      <th>0</th>\n",
       "      <td>1.043588</td>\n",
       "    </tr>\n",
       "    <tr>\n",
       "      <th>1</th>\n",
       "      <td>1.103699</td>\n",
       "    </tr>\n",
       "    <tr>\n",
       "      <th>2</th>\n",
       "      <td>1.223568</td>\n",
       "    </tr>\n",
       "    <tr>\n",
       "      <th>3</th>\n",
       "      <td>1.133237</td>\n",
       "    </tr>\n",
       "    <tr>\n",
       "      <th>4</th>\n",
       "      <td>1.168380</td>\n",
       "    </tr>\n",
       "    <tr>\n",
       "      <th>5</th>\n",
       "      <td>1.215915</td>\n",
       "    </tr>\n",
       "    <tr>\n",
       "      <th>6</th>\n",
       "      <td>1.230125</td>\n",
       "    </tr>\n",
       "  </tbody>\n",
       "</table>\n",
       "</div>"
      ],
      "text/plain": [
       "     profit\n",
       "0  1.043588\n",
       "1  1.103699\n",
       "2  1.223568\n",
       "3  1.133237\n",
       "4  1.168380\n",
       "5  1.215915\n",
       "6  1.230125"
      ]
     },
     "metadata": {},
     "output_type": "display_data"
    },
    {
     "data": {
      "text/plain": [
       "Date\n",
       "2021-05-24         NaN\n",
       "2021-05-25    0.973590\n",
       "2021-05-26    1.079137\n",
       "2021-05-27    1.084286\n",
       "2021-05-28    1.091611\n",
       "                ...   \n",
       "2022-07-15    4.507333\n",
       "2022-07-16    4.609838\n",
       "2022-07-17    4.702934\n",
       "2022-07-18    4.679163\n",
       "2022-07-19    4.795195\n",
       "Name: Close, Length: 422, dtype: float64"
      ]
     },
     "execution_count": 151,
     "metadata": {},
     "output_type": "execute_result"
    }
   ],
   "source": [
    "display((profits+1).cumprod()) # cumulative profit\n",
    "(df.Close.pct_change()+1).cumprod() # market development"
   ]
  }
 ],
 "metadata": {
  "kernelspec": {
   "display_name": "Python 3.9.13 ('base')",
   "language": "python",
   "name": "python3"
  },
  "language_info": {
   "codemirror_mode": {
    "name": "ipython",
    "version": 3
   },
   "file_extension": ".py",
   "mimetype": "text/x-python",
   "name": "python",
   "nbconvert_exporter": "python",
   "pygments_lexer": "ipython3",
   "version": "3.9.13"
  },
  "orig_nbformat": 4,
  "vscode": {
   "interpreter": {
    "hash": "3d733caf4ffc39d0fbd9a2ba54ef4b7d515956d8048931f8241efe3827fb2d1f"
   }
  }
 },
 "nbformat": 4,
 "nbformat_minor": 2
}
